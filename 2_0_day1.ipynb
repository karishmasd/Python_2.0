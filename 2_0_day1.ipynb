{
  "nbformat": 4,
  "nbformat_minor": 0,
  "metadata": {
    "colab": {
      "provenance": [],
      "authorship_tag": "ABX9TyNoVe41pYCtdnEXU1UAhd2d",
      "include_colab_link": true
    },
    "kernelspec": {
      "name": "python3",
      "display_name": "Python 3"
    },
    "language_info": {
      "name": "python"
    }
  },
  "cells": [
    {
      "cell_type": "markdown",
      "metadata": {
        "id": "view-in-github",
        "colab_type": "text"
      },
      "source": [
        "<a href=\"https://colab.research.google.com/github/karishmasd/Python_2.0/blob/main/2_0_day1.ipynb\" target=\"_parent\"><img src=\"https://colab.research.google.com/assets/colab-badge.svg\" alt=\"Open In Colab\"/></a>"
      ]
    },
    {
      "cell_type": "markdown",
      "source": [
        "#Formating Strings"
      ],
      "metadata": {
        "id": "vKdfxiS6N-y2"
      }
    },
    {
      "cell_type": "code",
      "execution_count": null,
      "metadata": {
        "colab": {
          "base_uri": "https://localhost:8080/"
        },
        "id": "jqkZOZYVMDm4",
        "outputId": "e7cb51b3-2eef-4ddb-d6dc-910d69b2edd8"
      },
      "outputs": [
        {
          "output_type": "stream",
          "name": "stdout",
          "text": [
            "Hello Karishma your lucky number is : 27\n",
            "Hello Karishma your lucky number is :27\n"
          ]
        }
      ],
      "source": [
        "name=\"Karishma\"\n",
        "number= int(len(name)*17/5)\n",
        "print(\"Hello\", name ,\"your lucky number is :\",number)\n",
        "print(\"Hello {} your lucky number is :{}\".format(name,number))"
      ]
    },
    {
      "cell_type": "code",
      "source": [
        "name=\"Mind\"\n",
        "print(\"Hi {name} your lucky number is {number}\".format(name=name,number=2*len(name)))"
      ],
      "metadata": {
        "colab": {
          "base_uri": "https://localhost:8080/"
        },
        "id": "_1RH8og3Mj_s",
        "outputId": "d8bc4fa5-2432-4810-ae2a-4faed2670e26"
      },
      "execution_count": null,
      "outputs": [
        {
          "output_type": "stream",
          "name": "stdout",
          "text": [
            "Hi Mind your lucky number is 8\n"
          ]
        }
      ]
    },
    {
      "cell_type": "code",
      "source": [
        "price=100\n",
        "with_tax=price*1.18\n",
        "print(price, with_tax)\n",
        "print(\"Base price:${:.2f} . With tax :${:.2f}\".format(price, with_tax))\n",
        "print(f\"Base price: ${price:.2f}. With tax: ${with_tax:.2f}\")\n"
      ],
      "metadata": {
        "colab": {
          "base_uri": "https://localhost:8080/"
        },
        "id": "xg966qaJNjOe",
        "outputId": "37ce203a-7724-42aa-fd0f-8a13b133f7bf"
      },
      "execution_count": null,
      "outputs": [
        {
          "output_type": "stream",
          "name": "stdout",
          "text": [
            "100 118.0\n",
            "Base price:$100.00 . With tax :$118.00\n",
            "Base price: $100.00. With tax: $118.00\n"
          ]
        }
      ]
    },
    {
      "cell_type": "code",
      "source": [
        "def to_celsius(x):\n",
        "  return (x-32)*5/9\n",
        "for x in range(0,101,10):\n",
        "  print(\"{:>3} F | {:>6.2f} C\".format(x, to_celsius(x)))"
      ],
      "metadata": {
        "id": "Eivwy4KhNyPZ"
      },
      "execution_count": null,
      "outputs": []
    },
    {
      "cell_type": "code",
      "source": [
        "def student_grade(name, grade):\n",
        "\treturn \"{} received {}% on the exam\".format(name,grade)\n",
        "\n",
        "print(student_grade(\"Reed\", 80))\n",
        "print(student_grade(\"Paige\", 92))\n",
        "print(student_grade(\"Jesse\", 85))"
      ],
      "metadata": {
        "id": "JZOAywYyRfzE",
        "outputId": "a521c788-5341-46da-b12d-08f4924f7e0d",
        "colab": {
          "base_uri": "https://localhost:8080/"
        }
      },
      "execution_count": null,
      "outputs": [
        {
          "output_type": "stream",
          "name": "stdout",
          "text": [
            "Reed received 80% on the exam\n",
            "Paige received 92% on the exam\n",
            "Jesse received 85% on the exam\n"
          ]
        }
      ]
    }
  ]
}